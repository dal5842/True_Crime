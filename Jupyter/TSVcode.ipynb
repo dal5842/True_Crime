{
 "cells": [
  {
   "cell_type": "code",
   "execution_count": 2,
   "id": "80c78641-731d-4ee2-861f-6243ecd5703d",
   "metadata": {},
   "outputs": [
    {
     "data": {
      "text/plain": [
       "['firstnotebook.ipynb',\n",
       " 'Words-to-Network-Data.ipynb',\n",
       " '.DS_Store',\n",
       " 'GlennverbFreq.txt',\n",
       " 'Python',\n",
       " 'Spacy-vs-NLTK 2.ipynb',\n",
       " 'onepiece-nlp-text',\n",
       " 'WordNet-and-Files.ipynb',\n",
       " 'EP3-OurBoyIsBack.txt',\n",
       " 'networkData.tsv',\n",
       " 'Spacy-vs-NLTK.ipynb',\n",
       " 'trueCrimeDocs',\n",
       " 'hughes-txt',\n",
       " 'Exploring-NLTK.ipynb',\n",
       " '.venv',\n",
       " 'textCollection',\n",
       " 'EP2-Gleen.txt',\n",
       " '.ipynb_checkpoints',\n",
       " 'TSVcode.ipynb',\n",
       " 'top_verbs_colored_by_synsets.svg',\n",
       " 'EP1-LookAgain.txt',\n",
       " 'spacyCode.ipynb',\n",
       " 'top10_verbs.svg',\n",
       " 'nltk.ipynb',\n",
       " 'GlennCoded.xml',\n",
       " 'networkData-2.tsv']"
      ]
     },
     "execution_count": 2,
     "metadata": {},
     "output_type": "execute_result"
    }
   ],
   "source": [
    "import os\n",
    "os.listdir()\n"
   ]
  },
  {
   "cell_type": "code",
   "execution_count": 4,
   "id": "b84ebb58-9454-4ee6-ac2f-2bde55c6a922",
   "metadata": {},
   "outputs": [],
   "source": [
    "# Read each file from the trueCrimeDocs folder\n",
    "with open(\"trueCrimeDocs/verbs.txt\", \"r\", encoding=\"utf-8\") as f:\n",
    "    verbs = [line.strip() for line in f if line.strip()]\n",
    "\n",
    "with open(\"trueCrimeDocs/named_entities.txt\", \"r\", encoding=\"utf-8\") as f:\n",
    "    named_entities = [line.strip() for line in f if line.strip() and not line.startswith('#')]\n",
    "\n",
    "with open(\"trueCrimeDocs/proper_nouns.txt\", \"r\", encoding=\"utf-8\") as f:\n",
    "    proper_nouns = [line.strip() for line in f if line.strip()]\n"
   ]
  },
  {
   "cell_type": "code",
   "execution_count": 6,
   "id": "d802ddd9-6281-4f47-b83c-070ee6f04343",
   "metadata": {},
   "outputs": [],
   "source": [
    "# Make sure all lists are the same length by padding with empty strings\n",
    "max_len = max(len(verbs), len(named_entities), len(proper_nouns))\n",
    "\n",
    "verbs += [\"\"] * (max_len - len(verbs))\n",
    "named_entities += [\"\"] * (max_len - len(named_entities))\n",
    "proper_nouns += [\"\"] * (max_len - len(proper_nouns))\n"
   ]
  },
  {
   "cell_type": "code",
   "execution_count": 7,
   "id": "fe948e28-b049-4008-bcd5-244aab2b195c",
   "metadata": {},
   "outputs": [],
   "source": [
    "import csv\n",
    "\n",
    "with open(\"output_data.tsv\", \"w\", newline='', encoding=\"utf-8\") as tsvfile:\n",
    "    writer = csv.writer(tsvfile, delimiter='\\t')\n",
    "    writer.writerow([\"Verb\", \"Named Entity\", \"Proper Noun\"])  # Header row\n",
    "    for v, ne, pn in zip(verbs, named_entities, proper_nouns):\n",
    "        writer.writerow([v, ne, pn])\n"
   ]
  },
  {
   "cell_type": "code",
   "execution_count": 3,
   "id": "fe796b9e-e862-4a23-9319-bcae7fd5ce30",
   "metadata": {},
   "outputs": [
    {
     "data": {
      "text/html": [
       "<div>\n",
       "<style scoped>\n",
       "    .dataframe tbody tr th:only-of-type {\n",
       "        vertical-align: middle;\n",
       "    }\n",
       "\n",
       "    .dataframe tbody tr th {\n",
       "        vertical-align: top;\n",
       "    }\n",
       "\n",
       "    .dataframe thead th {\n",
       "        text-align: right;\n",
       "    }\n",
       "</style>\n",
       "<table border=\"1\" class=\"dataframe\">\n",
       "  <thead>\n",
       "    <tr style=\"text-align: right;\">\n",
       "      <th></th>\n",
       "      <th>Verb</th>\n",
       "      <th>Named Entity</th>\n",
       "      <th>Proper Noun</th>\n",
       "    </tr>\n",
       "  </thead>\n",
       "  <tbody>\n",
       "    <tr>\n",
       "      <th>0</th>\n",
       "      <td>move</td>\n",
       "      <td>ten (CARDINAL)</td>\n",
       "      <td>Gwen</td>\n",
       "    </tr>\n",
       "    <tr>\n",
       "      <th>1</th>\n",
       "      <td>live</td>\n",
       "      <td>Lorraine Lounis (PERSON)</td>\n",
       "      <td>Lorraine</td>\n",
       "    </tr>\n",
       "    <tr>\n",
       "      <th>2</th>\n",
       "      <td>think</td>\n",
       "      <td>'83 (DATE)</td>\n",
       "      <td>Lounis</td>\n",
       "    </tr>\n",
       "    <tr>\n",
       "      <th>3</th>\n",
       "      <td>prove</td>\n",
       "      <td>Lorraine (PERSON)</td>\n",
       "      <td>Lorraine</td>\n",
       "    </tr>\n",
       "    <tr>\n",
       "      <th>4</th>\n",
       "      <td>make</td>\n",
       "      <td>20 years ago (DATE)</td>\n",
       "      <td>Detective</td>\n",
       "    </tr>\n",
       "  </tbody>\n",
       "</table>\n",
       "</div>"
      ],
      "text/plain": [
       "    Verb              Named Entity Proper Noun\n",
       "0   move            ten (CARDINAL)        Gwen\n",
       "1   live  Lorraine Lounis (PERSON)    Lorraine\n",
       "2  think                '83 (DATE)      Lounis\n",
       "3  prove         Lorraine (PERSON)    Lorraine\n",
       "4   make       20 years ago (DATE)   Detective"
      ]
     },
     "execution_count": 3,
     "metadata": {},
     "output_type": "execute_result"
    }
   ],
   "source": [
    "import pandas as pd\n",
    "\n",
    "df = pd.read_csv(\"output_data.tsv\", sep=\"\\t\")\n",
    "df.head()\n"
   ]
  },
  {
   "cell_type": "code",
   "execution_count": 5,
   "id": "548aa5d0-8a91-4b32-ad97-74c05684d931",
   "metadata": {},
   "outputs": [
    {
     "data": {
      "text/plain": [
       "'/Users/emilykalie/Documents/TextAnalysis 210/Jupyternotebook/trueCrimeDocs'"
      ]
     },
     "execution_count": 5,
     "metadata": {},
     "output_type": "execute_result"
    }
   ],
   "source": [
    "import os\n",
    "os.getcwd()\n"
   ]
  },
  {
   "cell_type": "code",
   "execution_count": 6,
   "id": "a8034d64-9779-44c6-a615-70e733903d93",
   "metadata": {},
   "outputs": [
    {
     "data": {
      "text/plain": [
       "['truecrime.ipynb',\n",
       " 'output_data.tsv',\n",
       " 'proper_nouns.txt',\n",
       " 'named_entities.txt',\n",
       " '.ipynb_checkpoints',\n",
       " 'TSVcode.ipynb',\n",
       " 'verbs.txt']"
      ]
     },
     "execution_count": 6,
     "metadata": {},
     "output_type": "execute_result"
    }
   ],
   "source": [
    "os.listdir()\n"
   ]
  },
  {
   "cell_type": "code",
   "execution_count": 7,
   "id": "0960a071-cfd4-4380-b8e5-fe1e5f47ac3b",
   "metadata": {},
   "outputs": [],
   "source": [
    "os.makedirs(\"trueCrimeDocs\", exist_ok=True)\n"
   ]
  },
  {
   "cell_type": "code",
   "execution_count": 8,
   "id": "c64b9021-1e65-495b-bc14-f772c3c4049b",
   "metadata": {},
   "outputs": [
    {
     "data": {
      "text/plain": [
       "['truecrime.ipynb',\n",
       " 'output_data.tsv',\n",
       " 'trueCrimeDocs',\n",
       " 'proper_nouns.txt',\n",
       " 'named_entities.txt',\n",
       " '.ipynb_checkpoints',\n",
       " 'TSVcode.ipynb',\n",
       " 'verbs.txt']"
      ]
     },
     "execution_count": 8,
     "metadata": {},
     "output_type": "execute_result"
    }
   ],
   "source": [
    "os.listdir()\n"
   ]
  },
  {
   "cell_type": "code",
   "execution_count": 9,
   "id": "28e78dcf-2e3b-44ef-9678-6ee4f2e5a1da",
   "metadata": {},
   "outputs": [],
   "source": [
    "df_clean = df.dropna(subset=[\"Verb\", \"Named Entity\", \"Proper Noun\"])\n",
    "\n",
    "df_cytoscape = df_clean.rename(columns={\n",
    "    \"Proper Noun\": \"source\",\n",
    "    \"Named Entity\": \"target\",\n",
    "    \"Verb\": \"interaction\"\n",
    "})\n",
    "\n",
    "df_cytoscape.to_csv(\"trueCrimeDocs/cytoscape_input.tsv\", sep=\"\\t\", index=False)\n"
   ]
  },
  {
   "cell_type": "code",
   "execution_count": 10,
   "id": "0d157356-0d3a-459f-aaf4-da8971bae3da",
   "metadata": {},
   "outputs": [],
   "source": [
    "df_cytoscape.to_csv(\"trueCrimeDocs/cytoscape_input.tsv\", sep=\"\\t\", index=False)\n"
   ]
  },
  {
   "cell_type": "code",
   "execution_count": 11,
   "id": "5b52030d-72d7-488d-a038-d985657b6320",
   "metadata": {},
   "outputs": [
    {
     "data": {
      "text/plain": [
       "['cytoscape_input.tsv']"
      ]
     },
     "execution_count": 11,
     "metadata": {},
     "output_type": "execute_result"
    }
   ],
   "source": [
    "import os\n",
    "os.listdir(\"trueCrimeDocs\")\n"
   ]
  },
  {
   "cell_type": "code",
   "execution_count": 12,
   "id": "94753a1d-52f9-4346-8340-83efe2b8b1e6",
   "metadata": {},
   "outputs": [
    {
     "data": {
      "text/plain": [
       "['cytoscape_input.tsv']"
      ]
     },
     "execution_count": 12,
     "metadata": {},
     "output_type": "execute_result"
    }
   ],
   "source": [
    "import os\n",
    "os.listdir(\"trueCrimeDocs\")\n"
   ]
  },
  {
   "cell_type": "code",
   "execution_count": 13,
   "id": "05e4418c-9c94-4b1c-b916-c6127ddcceec",
   "metadata": {},
   "outputs": [
    {
     "data": {
      "text/html": [
       "<div>\n",
       "<style scoped>\n",
       "    .dataframe tbody tr th:only-of-type {\n",
       "        vertical-align: middle;\n",
       "    }\n",
       "\n",
       "    .dataframe tbody tr th {\n",
       "        vertical-align: top;\n",
       "    }\n",
       "\n",
       "    .dataframe thead th {\n",
       "        text-align: right;\n",
       "    }\n",
       "</style>\n",
       "<table border=\"1\" class=\"dataframe\">\n",
       "  <thead>\n",
       "    <tr style=\"text-align: right;\">\n",
       "      <th></th>\n",
       "      <th>interaction</th>\n",
       "      <th>target</th>\n",
       "      <th>source</th>\n",
       "    </tr>\n",
       "  </thead>\n",
       "  <tbody>\n",
       "    <tr>\n",
       "      <th>0</th>\n",
       "      <td>move</td>\n",
       "      <td>ten (CARDINAL)</td>\n",
       "      <td>Gwen</td>\n",
       "    </tr>\n",
       "    <tr>\n",
       "      <th>1</th>\n",
       "      <td>live</td>\n",
       "      <td>Lorraine Lounis (PERSON)</td>\n",
       "      <td>Lorraine</td>\n",
       "    </tr>\n",
       "    <tr>\n",
       "      <th>2</th>\n",
       "      <td>think</td>\n",
       "      <td>'83 (DATE)</td>\n",
       "      <td>Lounis</td>\n",
       "    </tr>\n",
       "    <tr>\n",
       "      <th>3</th>\n",
       "      <td>prove</td>\n",
       "      <td>Lorraine (PERSON)</td>\n",
       "      <td>Lorraine</td>\n",
       "    </tr>\n",
       "    <tr>\n",
       "      <th>4</th>\n",
       "      <td>make</td>\n",
       "      <td>20 years ago (DATE)</td>\n",
       "      <td>Detective</td>\n",
       "    </tr>\n",
       "  </tbody>\n",
       "</table>\n",
       "</div>"
      ],
      "text/plain": [
       "  interaction                    target     source\n",
       "0        move            ten (CARDINAL)       Gwen\n",
       "1        live  Lorraine Lounis (PERSON)   Lorraine\n",
       "2       think                '83 (DATE)     Lounis\n",
       "3       prove         Lorraine (PERSON)   Lorraine\n",
       "4        make       20 years ago (DATE)  Detective"
      ]
     },
     "execution_count": 13,
     "metadata": {},
     "output_type": "execute_result"
    }
   ],
   "source": [
    "df_cytoscape.head()\n"
   ]
  },
  {
   "cell_type": "code",
   "execution_count": 14,
   "id": "c4f7d284-6299-41eb-9e67-b661f1200522",
   "metadata": {},
   "outputs": [
    {
     "data": {
      "text/plain": [
       "Index(['Verb', 'Named Entity', 'Proper Noun'], dtype='object')"
      ]
     },
     "execution_count": 14,
     "metadata": {},
     "output_type": "execute_result"
    }
   ],
   "source": [
    "df.columns\n"
   ]
  },
  {
   "cell_type": "code",
   "execution_count": 15,
   "id": "9bbdc2c3-c4a4-480a-9a79-2ad02a6797a2",
   "metadata": {},
   "outputs": [],
   "source": [
    "df_cytoscape.to_csv(\"trueCrimeDocs/cytoscape_input.txt\", sep=\"\\t\", index=False)\n"
   ]
  },
  {
   "cell_type": "code",
   "execution_count": null,
   "id": "77becf26-829e-4b58-8036-bbd908228c94",
   "metadata": {},
   "outputs": [],
   "source": []
  }
 ],
 "metadata": {
  "kernelspec": {
   "display_name": "Python 3 (ipykernel)",
   "language": "python",
   "name": "python3"
  },
  "language_info": {
   "codemirror_mode": {
    "name": "ipython",
    "version": 3
   },
   "file_extension": ".py",
   "mimetype": "text/x-python",
   "name": "python",
   "nbconvert_exporter": "python",
   "pygments_lexer": "ipython3",
   "version": "3.12.6"
  }
 },
 "nbformat": 4,
 "nbformat_minor": 5
}
