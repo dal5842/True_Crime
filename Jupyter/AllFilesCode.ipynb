{
 "cells": [
  {
   "cell_type": "code",
   "execution_count": 1,
   "id": "ffe75f39-6e86-48ff-abeb-0003cd89d7bd",
   "metadata": {},
   "outputs": [],
   "source": [
    "import os\n",
    "import spacy\n"
   ]
  },
  {
   "cell_type": "code",
   "execution_count": 2,
   "id": "e304ff2e-4d52-4bb6-b745-952675862080",
   "metadata": {},
   "outputs": [],
   "source": [
    "nlp = spacy.load(\"en_core_web_sm\")\n"
   ]
  },
  {
   "cell_type": "code",
   "execution_count": 4,
   "id": "98d85f7e-e744-41a0-8ea7-4041c7175489",
   "metadata": {},
   "outputs": [],
   "source": [
    "# Folder path\n",
    "input_folder = \"EpisodesTxtFiles\"\n",
    "\n",
    "# Empty lists to collect\n",
    "all_verbs = []\n",
    "all_proper_nouns = []\n",
    "all_named_entities = []\n"
   ]
  },
  {
   "cell_type": "code",
   "execution_count": 5,
   "id": "992a200c-0e96-44b8-b367-957bb4f5c17d",
   "metadata": {},
   "outputs": [],
   "source": [
    "# Go through each text file\n",
    "for filename in os.listdir(input_folder):\n",
    "    if filename.endswith(\".txt\"):\n",
    "        file_path = os.path.join(input_folder, filename)\n",
    "        with open(file_path, 'r', encoding='utf-8') as file:\n",
    "            text = file.read()\n",
    "        \n",
    "        doc = nlp(text)\n",
    "        \n",
    "        # Collect verbs\n",
    "        verbs = [token.text for token in doc if token.pos_ == \"VERB\"]\n",
    "        all_verbs.extend(verbs)\n",
    "\n",
    "        # Collect proper nouns\n",
    "        proper_nouns = [token.text for token in doc if token.pos_ == \"PROPN\"]\n",
    "        all_proper_nouns.extend(proper_nouns)\n",
    "\n",
    "        # Collect named entities\n",
    "        named_entities = [ent.text for ent in doc.ents]\n",
    "        all_named_entities.extend(named_entities)\n"
   ]
  },
  {
   "cell_type": "code",
   "execution_count": 6,
   "id": "9e459c1c-dbd6-494a-8efa-c26b1db48956",
   "metadata": {},
   "outputs": [],
   "source": [
    "# Save verbs\n",
    "with open(\"AllVerbs.txt\", 'w', encoding='utf-8') as out_file:\n",
    "    out_file.write(\"\\n\".join(all_verbs))\n",
    "\n",
    "# Save proper nouns\n",
    "with open(\"AllProperNouns.txt\", 'w', encoding='utf-8') as out_file:\n",
    "    out_file.write(\"\\n\".join(all_proper_nouns))\n",
    "\n",
    "# Save named entities\n",
    "with open(\"AllNamedEntities.txt\", 'w', encoding='utf-8') as out_file:\n",
    "    out_file.write(\"\\n\".join(all_named_entities))\n"
   ]
  },
  {
   "cell_type": "code",
   "execution_count": null,
   "id": "4537a7fb-cb3b-4846-9fb1-39c6233d1f10",
   "metadata": {},
   "outputs": [],
   "source": []
  }
 ],
 "metadata": {
  "kernelspec": {
   "display_name": "Python 3 (ipykernel)",
   "language": "python",
   "name": "python3"
  },
  "language_info": {
   "codemirror_mode": {
    "name": "ipython",
    "version": 3
   },
   "file_extension": ".py",
   "mimetype": "text/x-python",
   "name": "python",
   "nbconvert_exporter": "python",
   "pygments_lexer": "ipython3",
   "version": "3.12.6"
  }
 },
 "nbformat": 4,
 "nbformat_minor": 5
}
