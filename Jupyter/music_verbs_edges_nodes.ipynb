{
 "cells": [
  {
   "cell_type": "code",
   "execution_count": 2,
   "id": "0cc8147f-6c8b-4ff7-9921-cd5f1bded460",
   "metadata": {},
   "outputs": [],
   "source": [
    "import os\n",
    "import pandas as pd\n",
    "import spacy\n",
    "\n",
    "nlp = spacy.load(\"en_core_web_sm\")\n",
    "\n",
    "folder_path = '/Users/raasheemishra/Documents/GitHub/True_Crime/music-only-text'  \n",
    "\n",
    "data = []\n",
    "\n",
    "for filename in os.listdir(folder_path):\n",
    "    if filename.endswith('.txt'):\n",
    "        episode = os.path.splitext(filename)[0]  \n",
    "        with open(os.path.join(folder_path, filename), 'r', encoding='utf-8') as file:\n",
    "            text = file.read()\n",
    "            doc = nlp(text)\n",
    "            verbs = {token.lemma_.lower() for token in doc if token.pos_ == 'VERB'}  \n",
    "\n",
    "            for verb in verbs:\n",
    "                data.append([episode, verb])\n",
    "\n",
    "\n",
    "df = pd.DataFrame(data, columns=[\"source\", \"target\"])\n",
    "\n",
    "\n",
    "df.to_csv('episode_verbs_network.tsv', sep='\\t', index=False)\n"
   ]
  },
  {
   "cell_type": "code",
   "execution_count": 3,
   "id": "2a5d5982-285f-4845-8fe0-f9bfe15c262a",
   "metadata": {},
   "outputs": [],
   "source": [
    "import os\n",
    "import pandas as pd\n",
    "import spacy\n",
    "\n",
    "nlp = spacy.load(\"en_core_web_sm\")\n",
    "\n",
    "folder_path = '/Users/raasheemishra/Documents/GitHub/True_Crime/music-only-text'  \n",
    "\n",
    "edges = []  \n",
    "nodes = set()  \n",
    "\n",
    "for filename in os.listdir(folder_path):\n",
    "    if filename.endswith('.txt'):\n",
    "        episode = os.path.splitext(filename)[0]  \n",
    "        nodes.add((episode, 'episode'))  \n",
    "        with open(os.path.join(folder_path, filename), 'r', encoding='utf-8') as file:\n",
    "            text = file.read()\n",
    "            doc = nlp(text)\n",
    "            verbs = {token.lemma_.lower() for token in doc if token.pos_ == 'VERB'}\n",
    "\n",
    "            for verb in verbs:\n",
    "                edges.append([episode, verb])\n",
    "                nodes.add((verb, 'verb'))  \n",
    "\n",
    "\n",
    "edges_df = pd.DataFrame(edges, columns=[\"source\", \"target\"])\n",
    "\n",
    "nodes_df = pd.DataFrame(list(nodes), columns=[\"id\", \"type\"])\n",
    "\n",
    "edges_df.to_csv('music_verbs_edges.tsv', sep='\\t', index=False)\n",
    "nodes_df.to_csv('music_verbs_nodes.tsv', sep='\\t', index=False)\n"
   ]
  },
  {
   "cell_type": "code",
   "execution_count": null,
   "id": "cc647342-4f99-4d9a-8699-691481bc9de3",
   "metadata": {},
   "outputs": [],
   "source": []
  }
 ],
 "metadata": {
  "kernelspec": {
   "display_name": "Python 3 (ipykernel)",
   "language": "python",
   "name": "python3"
  },
  "language_info": {
   "codemirror_mode": {
    "name": "ipython",
    "version": 3
   },
   "file_extension": ".py",
   "mimetype": "text/x-python",
   "name": "python",
   "nbconvert_exporter": "python",
   "pygments_lexer": "ipython3",
   "version": "3.9.6"
  }
 },
 "nbformat": 4,
 "nbformat_minor": 5
}
